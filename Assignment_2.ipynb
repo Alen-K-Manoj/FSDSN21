{
 "cells": [
  {
   "cell_type": "raw",
   "id": "bceb5e37",
   "metadata": {},
   "source": [
    "1.What are the two values of the Boolean data type? How do you write them?\n",
    "Answer : \n",
    "# True and False are 2 values of the Boolean data type.\n",
    "# We write boolean as bool.\n",
    "#eg : \n",
    "     a=True\n",
    "     type(a)\n",
    "     >>bool"
   ]
  },
  {
   "cell_type": "raw",
   "id": "03bb46a4",
   "metadata": {},
   "source": [
    "2. What are the three different types of Boolean operators?\n",
    "Answer : \n",
    "and , or and not are the three different types of Boolean operators  "
   ]
  },
  {
   "cell_type": "raw",
   "id": "0003685a",
   "metadata": {},
   "source": [
    "3. Make a list of each Boolean operator's truth tables (i.e. every possible \n",
    "combination of Boolean values for the operator and what it evaluate ).\n",
    "Answer :\n",
    "\n",
    "\n",
    "and Operator :-\n",
    "X    Y     O/p\n",
    "T    T      T\n",
    "T    F      F\n",
    "F    T      F\n",
    "F    F      F\n",
    "\n",
    "or Operator :-\n",
    "X    Y     O/p\n",
    "T    T      T\n",
    "T    F      T\n",
    "F    T      T\n",
    "F    F      F\n",
    "\n",
    "not Operator with and :-\n",
    "X    Y     O/p(not(X and Y))\n",
    "T    T      F\n",
    "T    F      T\n",
    "F    T      T\n",
    "F    F      T\n",
    "\n",
    "not Operator with or :-\n",
    "X    Y     O/p(not(X or Y))\n",
    "T    T      F\n",
    "T    F      F\n",
    "F    T      F\n",
    "F    F      T"
   ]
  },
  {
   "cell_type": "raw",
   "id": "3b2ec4a5",
   "metadata": {},
   "source": [
    "4. What are the values of the following expressions?\n",
    "(5 > 4) and (3 == 5)\n",
    "not (5 > 4)\n",
    "(5 > 4) or (3 == 5)\n",
    "not ((5 > 4) or (3 == 5))\n",
    "(True and True) and (True == False)\n",
    "(not False) or (not True)\n",
    "Answer : \n",
    "\n",
    "# (5 > 4) and (3 == 5)\n",
    ">False\n",
    "\n",
    "# not (5 > 4)\n",
    ">False\n",
    "\n",
    "# (5 > 4) or (3 == 5)\n",
    ">True\n",
    "\n",
    "# (True and True) and (True == False)\n",
    ">False\n",
    "\n",
    "# (not False) or (not True)\n",
    ">True"
   ]
  },
  {
   "cell_type": "raw",
   "id": "a92a499e",
   "metadata": {},
   "source": [
    "5. What are the six comparison operators?\n",
    "Answer : \n",
    "\n",
    ">  : Greater than\n",
    "<  : Less than\n",
    ">= : greater than or equals\n",
    "<= : Less than or equals\n",
    "!= : Not equals\n",
    "== : Comparison double equals"
   ]
  },
  {
   "cell_type": "raw",
   "id": "ca181da0",
   "metadata": {},
   "source": [
    "6. How do you tell the difference between the equal to and assignment operators?Describe a condition and when you would use one.\n",
    "Answer : \n",
    "\n",
    "# equals to (==) is a comparison operator used to compare the boolean result of   two or more constants or variable.\n",
    "eg : x,y=5,6\n",
    "     >>x==y\n",
    "   *here y is compared with x to match their constants and result will be False\n",
    "    according to the case taken.\n",
    "\n",
    "#assignment operator(=) is used to assign value to a variable.\n",
    "eg : x=5\n",
    "    *here 5 is a constant assigned to x by using assignment operator."
   ]
  },
  {
   "cell_type": "raw",
   "id": "fbac6d87",
   "metadata": {},
   "source": [
    "7. Identify the three blocks in this code:\n",
    "Answer : \n",
    "\n",
    "spam = 0\n",
    "if spam == 10:\n",
    "print('eggs')\n",
    "if spam > 5:\n",
    "print('bacon')\n",
    "else:\n",
    "print('ham')\n",
    "print('spam')\n",
    "print('spam')\n",
    "\n",
    "\n",
    "spam = 0\n",
    "if spam == 10:\n",
    "    print('eggs')     -------block 1\n",
    "if spam > 5:\n",
    "    print('bacon')    -------block 2\n",
    "else:\n",
    "    print('ham')\n",
    "    print('spam')     -------block 3\n",
    "    print('spam')"
   ]
  },
  {
   "cell_type": "raw",
   "id": "6d42762e",
   "metadata": {},
   "source": [
    "8. Write code that prints Hello if 1 is stored in spam, prints Howdy if 2 is stored in spam, and prints Greetings! if anything else is stored in spam.\n",
    "Answer : \n",
    "\n",
    "spam=input()\n",
    "\n",
    "if(spam==\"1\"):\n",
    "    print(\"Hello\")\n",
    "elif(spam==\"2\"):\n",
    "    print(\"Howdy\")\n",
    "else:\n",
    "    print(\"Greetings!\")\n",
    "    \n",
    "    \n",
    "**using double quotes(\"\") or string type conversion to avoid typecasting"
   ]
  },
  {
   "cell_type": "raw",
   "id": "70c9103a",
   "metadata": {},
   "source": [
    "9.If your programme is stuck in an endless loop, what keys you’ll press?\n",
    "Answer : \n",
    "\n",
    "ctrl+c in cmd and press interupt the kernal in jupyter"
   ]
  },
  {
   "cell_type": "raw",
   "id": "df219244",
   "metadata": {},
   "source": [
    "10. How can you tell the difference between break and continue?\n",
    "Answer :\n",
    "\n",
    "# Break exits the innermost loop or block it is enclosed.\n",
    "\n",
    "# Wheras continue statement continues the next iteration from the begining by ignoring current enclosed statement\n",
    "\n",
    "#Break example : \n",
    "\n",
    "x=[1,2,3,4,5,6,7,8,9,10]\n",
    "for i in x:\n",
    "    if(i==5):\n",
    "        break\n",
    "    print(i)\n",
    "O/P>>\n",
    "1\n",
    "2\n",
    "3\n",
    "4\n",
    "\n",
    "#continue example :\n",
    "\n",
    "x=[1,2,3,4,5,6,7,8,9,10]\n",
    "for i in x:\n",
    "    if(i==5):\n",
    "        continue\n",
    "    print(i)\n",
    "O/P>> \n",
    "1\n",
    "2\n",
    "3\n",
    "4\n",
    "6\n",
    "7\n",
    "8\n",
    "9\n",
    "10"
   ]
  },
  {
   "cell_type": "code",
   "execution_count": 35,
   "id": "52e3a5cd",
   "metadata": {},
   "outputs": [
    {
     "name": "stdout",
     "output_type": "stream",
     "text": [
      "1\n",
      "2\n",
      "3\n",
      "4\n",
      "6\n",
      "7\n",
      "8\n",
      "9\n",
      "10\n"
     ]
    }
   ],
   "source": [
    "x=[1,2,3,4,5,6,7,8,9,10]\n",
    "for i in x:\n",
    "    if(i==5):\n",
    "        continue\n",
    "    print(i)"
   ]
  },
  {
   "cell_type": "raw",
   "id": "e0655a6c",
   "metadata": {},
   "source": [
    "11. In a for loop, what is the difference between range(10), range(0, 10), and range(0, 10, 1)?\n",
    "\n",
    "Answer : \n",
    "In a for loop all 3 statements performs as follows :\n",
    "\n",
    "# range(10) : if used in for loop it gives a range from (0-9) excluding the    \n",
    "              upper limit 10\n",
    "# range(0, 10) : it is similar with o/p to range(10) but with lower bound  \n",
    "                 specified.\n",
    "                 \n",
    "#range(0, 10, 1) : it is similar with o/p to range(10) but with lower bound  \n",
    "                 specified and a jump or step mentioned as 1."
   ]
  },
  {
   "cell_type": "markdown",
   "id": "9e187329",
   "metadata": {},
   "source": [
    "12. Write a short program that prints the numbers 1 to 10 using a for loop. Then write an equivalent program that prints the numbers 1 to 10 using a while loop."
   ]
  },
  {
   "cell_type": "code",
   "execution_count": 40,
   "id": "b7ad4626",
   "metadata": {},
   "outputs": [
    {
     "name": "stdout",
     "output_type": "stream",
     "text": [
      "1\n",
      "2\n",
      "3\n",
      "4\n",
      "5\n",
      "6\n",
      "7\n",
      "8\n",
      "9\n",
      "10\n",
      "1\n",
      "2\n",
      "3\n",
      "4\n",
      "5\n",
      "6\n",
      "7\n",
      "8\n",
      "9\n",
      "10\n"
     ]
    }
   ],
   "source": [
    "#Answer :\n",
    "#for loop 1 to 10 \n",
    "\n",
    "for i in range(1,11):\n",
    "    print(i)\n",
    "    \n",
    "#while loop 1 to 10\n",
    "i=1\n",
    "while (i<=10):\n",
    "    print(i)\n",
    "    i+=1"
   ]
  },
  {
   "cell_type": "raw",
   "id": "658d7a28",
   "metadata": {},
   "source": [
    "13. If you had a function named bacon() inside a module named spam, how would \n",
    "you call it after importing spam?\n",
    "\n",
    "Answer : \n",
    "spam.bacon()"
   ]
  },
  {
   "cell_type": "code",
   "execution_count": null,
   "id": "65d923cc",
   "metadata": {},
   "outputs": [],
   "source": []
  }
 ],
 "metadata": {
  "kernelspec": {
   "display_name": "Python 3 (ipykernel)",
   "language": "python",
   "name": "python3"
  },
  "language_info": {
   "codemirror_mode": {
    "name": "ipython",
    "version": 3
   },
   "file_extension": ".py",
   "mimetype": "text/x-python",
   "name": "python",
   "nbconvert_exporter": "python",
   "pygments_lexer": "ipython3",
   "version": "3.9.7"
  }
 },
 "nbformat": 4,
 "nbformat_minor": 5
}
