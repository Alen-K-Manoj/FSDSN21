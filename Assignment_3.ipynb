{
 "cells": [
  {
   "cell_type": "raw",
   "id": "a878aff7",
   "metadata": {},
   "source": [
    "1. Why are functions advantageous to have in your programs?\n",
    "Answer:\n",
    "\n",
    "Functions are advantageous to have in your programs as it helps in code reusabliy and with the help of *args and **args it helps to optimize the parameter field as well.\n",
    "\n",
    "Functions help in DRY concept(Do Not Repeat Yourself)."
   ]
  },
  {
   "cell_type": "raw",
   "id": "1d39aa74",
   "metadata": {},
   "source": [
    "2. When does the code in a function run: when it's specified or when it's called?\n",
    "Answer : \n",
    "\n",
    "A code in a function runs when it is called,Once the function is called it goes to the block where the function is defined."
   ]
  },
  {
   "cell_type": "raw",
   "id": "3f17a0f8",
   "metadata": {},
   "source": [
    "3.What statement creates a function?\n",
    "ANswer : \n",
    "\n",
    "def keyword is a statement that creates a function in python.\n",
    "for eg :\n",
    "        def test():\n",
    "            return \"this is a test function\""
   ]
  },
  {
   "cell_type": "raw",
   "id": "a4675135",
   "metadata": {},
   "source": [
    "4.What is the difference between a function and a function call?\n",
    "Answer :\n",
    "\n",
    "#The function is a block of statement that contain set of code to do   \n",
    " particular operation and return a result.\n",
    "\n",
    "#A function call is called when a function needs to be given or passed control to its block to provide a result based on some parameter or no parameter mandatory."
   ]
  },
  {
   "cell_type": "raw",
   "id": "3ed48dd1",
   "metadata": {},
   "source": [
    "5. How many global scopes are there in a Python program? How many local scopes?\n",
    "Answer:\n",
    "\n",
    "#There's only one global Python scope per program execution. This scope remains in existence until the program terminates and all its names are forgotten.\n",
    "\n",
    "#There is also a buit-in scope as well like pre-defined libraries.\n",
    "\n",
    "#There's only one Local Python scope per program execution.Local Function or scope is names assigned inside a function def.\n",
    "\n",
    "\n",
    "# global scope\n",
    "X = 99                # X and func assigned in module: global\n",
    "          \n",
    "def func(Y):          # Y and Z assigned in function: locals\n",
    "    # local scope\n",
    "    Z = X + Y         # X is not assigned, so it's a global\n",
    "    return Z\n",
    "\n",
    "func(1)               # func in module: result=100"
   ]
  },
  {
   "cell_type": "raw",
   "id": "236898ce",
   "metadata": {},
   "source": [
    "6. What happens to variables in a local scope when the function call returns?\n",
    "Answer : \n",
    "\n",
    "A local variable becomes undefined after the function call completes."
   ]
  },
  {
   "cell_type": "raw",
   "id": "c3e81132",
   "metadata": {},
   "source": [
    "7.What is the concept of a return value?Is it possible to have a return value in an expression?\n",
    "Answer : \n",
    "\n",
    "#Concept of return in a function is to send back function's output or result \n",
    " back to the caller.\n",
    "#Yes,It possible to have a return value in an expression.    "
   ]
  },
  {
   "cell_type": "code",
   "execution_count": 7,
   "id": "268bee05",
   "metadata": {},
   "outputs": [],
   "source": [
    "def test():\n",
    "    pass\n",
    "test()"
   ]
  },
  {
   "cell_type": "raw",
   "id": "f971701b",
   "metadata": {},
   "source": [
    "8.If a function does not have a return statement, what is the return value of a call to that function?\n",
    "Answer : \n",
    "\n",
    "If a function does not have a return statement, it will return a defult value for the function.ie,None"
   ]
  },
  {
   "cell_type": "raw",
   "id": "389e78ee",
   "metadata": {},
   "source": [
    "9.How do you make a function variable refer to the global variable?\n",
    "Answer : \n",
    "\n",
    "If you want to refer to a global variable in a function, you can use the global keyword to declare which variables are global    "
   ]
  },
  {
   "cell_type": "code",
   "execution_count": 19,
   "id": "46369538",
   "metadata": {},
   "outputs": [
    {
     "name": "stdout",
     "output_type": "stream",
     "text": [
      "84\n"
     ]
    }
   ],
   "source": [
    "myGlobal = 5\n",
    "\n",
    "def func1():\n",
    "    global myGlobal \n",
    "    myGlobal= 42\n",
    "\n",
    "def func2(myGlobal):\n",
    "    myGlobal= myGlobal+ 42\n",
    "    print(myGlobal)\n",
    "\n",
    "func1()\n",
    "func2(myGlobal)"
   ]
  },
  {
   "cell_type": "raw",
   "id": "f691eaad",
   "metadata": {},
   "source": [
    "10.What is the data type of None?\n",
    "Answer : \n",
    "\n",
    "The None keyword is used to define a null value,None is a data type of its own (NoneType) and only None can be None."
   ]
  },
  {
   "cell_type": "raw",
   "id": "95edb196",
   "metadata": {},
   "source": [
    "11. What does the sentence import areallyourpetsnamederic do?\n",
    "Answer :\n",
    "\n",
    "It will import a module named areallyourpetsnamederic"
   ]
  },
  {
   "cell_type": "code",
   "execution_count": 20,
   "id": "d646f6b7",
   "metadata": {},
   "outputs": [
    {
     "ename": "ModuleNotFoundError",
     "evalue": "No module named 'areallyourpetsnamederic'",
     "output_type": "error",
     "traceback": [
      "\u001b[1;31m---------------------------------------------------------------------------\u001b[0m",
      "\u001b[1;31mModuleNotFoundError\u001b[0m                       Traceback (most recent call last)",
      "\u001b[1;32m~\\AppData\\Local\\Temp/ipykernel_17064/51184242.py\u001b[0m in \u001b[0;36m<module>\u001b[1;34m\u001b[0m\n\u001b[1;32m----> 1\u001b[1;33m \u001b[1;32mimport\u001b[0m \u001b[0mareallyourpetsnamederic\u001b[0m\u001b[1;33m\u001b[0m\u001b[1;33m\u001b[0m\u001b[0m\n\u001b[0m",
      "\u001b[1;31mModuleNotFoundError\u001b[0m: No module named 'areallyourpetsnamederic'"
     ]
    }
   ],
   "source": [
    "import areallyourpetsnamederic"
   ]
  },
  {
   "cell_type": "raw",
   "id": "0b704bc4",
   "metadata": {},
   "source": [
    "12. If you had a bacon() feature in a spam module, what would you call it after importing spam?\n",
    "\n",
    "Answer :\n",
    "spam.bacon()"
   ]
  },
  {
   "cell_type": "raw",
   "id": "7fb57011",
   "metadata": {},
   "source": [
    "13. What can you do to save a programme from crashing if it encounters an error?\n",
    "Answer : \n",
    "#By using error handling in python,we can try running the program and it should throw an error message instead of crashing the program."
   ]
  },
  {
   "cell_type": "raw",
   "id": "5e24feaa",
   "metadata": {},
   "source": [
    "14. What is the purpose of the try clause? What is the purpose of the except clause?\n",
    "Answer : \n",
    "\n",
    "#The try block allows you to test a block of code for errors\n",
    "#The except block enables you to handle the error with a user-defined response."
   ]
  },
  {
   "cell_type": "code",
   "execution_count": null,
   "id": "bff5b109",
   "metadata": {},
   "outputs": [],
   "source": []
  }
 ],
 "metadata": {
  "kernelspec": {
   "display_name": "Python 3 (ipykernel)",
   "language": "python",
   "name": "python3"
  },
  "language_info": {
   "codemirror_mode": {
    "name": "ipython",
    "version": 3
   },
   "file_extension": ".py",
   "mimetype": "text/x-python",
   "name": "python",
   "nbconvert_exporter": "python",
   "pygments_lexer": "ipython3",
   "version": "3.9.7"
  }
 },
 "nbformat": 4,
 "nbformat_minor": 5
}
