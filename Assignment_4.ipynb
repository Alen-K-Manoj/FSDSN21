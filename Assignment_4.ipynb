{
 "cells": [
  {
   "cell_type": "raw",
   "id": "890ba22c",
   "metadata": {},
   "source": [
    "1. What exactly is []?\n",
    "Answer : \n",
    "Squared brackets are used to represent list and enclose list values in it.\n",
    "For eg :\n",
    "a=[1,2,3,4]        *data type of a is list"
   ]
  },
  {
   "cell_type": "raw",
   "id": "99775c07",
   "metadata": {},
   "source": [
    "2. In a list of values stored in a variable called spam, how would you assign the value 'hello' as the third value? (Assume [2, 4, 6, 8, 10] are in spam.)\n",
    "Answer :\n",
    "\n",
    "spam.insert(2,\"hello\")"
   ]
  },
  {
   "cell_type": "code",
   "execution_count": 1,
   "id": "f4e95133",
   "metadata": {},
   "outputs": [],
   "source": [
    "spam=[2, 4, 6, 8, 10]"
   ]
  },
  {
   "cell_type": "code",
   "execution_count": 2,
   "id": "48d9dbad",
   "metadata": {},
   "outputs": [],
   "source": [
    "spam.insert(2,\"hello\")"
   ]
  },
  {
   "cell_type": "code",
   "execution_count": 3,
   "id": "f0ced59d",
   "metadata": {},
   "outputs": [
    {
     "data": {
      "text/plain": [
       "[2, 4, 'hello', 6, 8, 10]"
      ]
     },
     "execution_count": 3,
     "metadata": {},
     "output_type": "execute_result"
    }
   ],
   "source": [
    "spam"
   ]
  },
  {
   "cell_type": "raw",
   "id": "f74d0b8c",
   "metadata": {},
   "source": [
    "Let's pretend the spam includes the list ['a', 'b', 'c', 'd'] for the next three queries.\n",
    "\n",
    "3.What is the value of spam[int(int('3' * 2) / 11)]?\n",
    "Answer :\n",
    "'d'"
   ]
  },
  {
   "cell_type": "code",
   "execution_count": 4,
   "id": "08a0af9d",
   "metadata": {},
   "outputs": [],
   "source": [
    "spam=['a', 'b', 'c', 'd']"
   ]
  },
  {
   "cell_type": "code",
   "execution_count": 5,
   "id": "792d9498",
   "metadata": {},
   "outputs": [
    {
     "data": {
      "text/plain": [
       "'d'"
      ]
     },
     "execution_count": 5,
     "metadata": {},
     "output_type": "execute_result"
    }
   ],
   "source": [
    "spam[int(int('3' * 2) / 11)]"
   ]
  },
  {
   "cell_type": "raw",
   "id": "00a901fd",
   "metadata": {},
   "source": [
    "4. What is the value of spam[-1]?\n",
    "Answer:\n",
    "'d'"
   ]
  },
  {
   "cell_type": "code",
   "execution_count": 10,
   "id": "57fb698c",
   "metadata": {},
   "outputs": [
    {
     "data": {
      "text/plain": [
       "'d'"
      ]
     },
     "execution_count": 10,
     "metadata": {},
     "output_type": "execute_result"
    }
   ],
   "source": [
    "spam[-1]"
   ]
  },
  {
   "cell_type": "raw",
   "id": "f494db31",
   "metadata": {},
   "source": [
    "5. What is the value of spam[:2]?\n",
    "Answer :\n",
    "['a', 'b']"
   ]
  },
  {
   "cell_type": "code",
   "execution_count": 11,
   "id": "e7ab699c",
   "metadata": {},
   "outputs": [
    {
     "data": {
      "text/plain": [
       "['a', 'b']"
      ]
     },
     "execution_count": 11,
     "metadata": {},
     "output_type": "execute_result"
    }
   ],
   "source": [
    "spam[:2]"
   ]
  },
  {
   "cell_type": "raw",
   "id": "b183442f",
   "metadata": {},
   "source": [
    "Let's pretend bacon has the list [3.14, 'cat,' 11, 'cat,' True] for the next three questions."
   ]
  },
  {
   "cell_type": "markdown",
   "id": "382b98d6",
   "metadata": {},
   "source": [
    "Adding 2 answers assuming in [3.14, 'cat,' 11, 'cat,' True] single quote('') for cat given in list is a typo error."
   ]
  },
  {
   "cell_type": "code",
   "execution_count": 23,
   "id": "c89fb17a",
   "metadata": {},
   "outputs": [
    {
     "data": {
      "text/plain": [
       "[3.14, 11, 'cat', True]"
      ]
     },
     "execution_count": 23,
     "metadata": {},
     "output_type": "execute_result"
    }
   ],
   "source": [
    "bacon=[3.14, 'cat', 11, 'cat', True]\n",
    "bacon.remove('cat')\n",
    "bacon"
   ]
  },
  {
   "cell_type": "raw",
   "id": "e3ac6e69",
   "metadata": {},
   "source": [
    "6. What is the value of bacon.index('cat')?\n",
    "Answer : 1 #if [3.14, 'cat,' 11, 'cat,' True] is a typo ]\n",
    "\n",
    "         SyntaxError: invalid syntax #if made intentionally\n",
    "    "
   ]
  },
  {
   "cell_type": "raw",
   "id": "702c646c",
   "metadata": {},
   "source": [
    "7. How does bacon.append(99) change the look of the list value in bacon?\n",
    "Answer : \n",
    "[3.14, 'cat', 11, 'cat', True, 99]  #if [3.14, 'cat,' 11, 'cat,' True] is a typo ]\n",
    "\n",
    "SyntaxError: invalid syntax #if made intentionally"
   ]
  },
  {
   "cell_type": "raw",
   "id": "0078a815",
   "metadata": {},
   "source": [
    "8. How does bacon.remove('cat') change the look of the list in bacon?\n",
    "Answer : \n",
    "[3.14, 11, 'cat', True] # it will remove first occurance of 'cat'  #if [3.14, 'cat,' 11, 'cat,' True] is a typo ]\n",
    "\n",
    "SyntaxError: invalid syntax #if made intentionally"
   ]
  },
  {
   "cell_type": "raw",
   "id": "767f606a",
   "metadata": {},
   "source": [
    "9. What are the list concatenation and list replication operators?\n",
    "Answer :\n",
    "# In list concatenation we add one list behind other list by adding both list into a other list using '+' operator.\n",
    "## eg:\n",
    "    a=[1,2,3]\n",
    "    b=[4,5,6]\n",
    "    c=a+b\n",
    "    c o/p : [1, 2, 3, 4, 5, 6]\n",
    "# In list replication we multiply one list with a given integer to multiply it using '*' operator.\n",
    "## eg:\n",
    "    a=[1,2]\n",
    "    b=a*2\n",
    "    b o/p : [1, 2, 1, 2]"
   ]
  },
  {
   "cell_type": "raw",
   "id": "f4194483",
   "metadata": {},
   "source": [
    "10. What is difference between the list methods append() and insert()?\n",
    "Answer : \n",
    "#Append is a function of list which adds a value given to its parameter at the end of the list.\n",
    "    eg: a=[1,2,4]\n",
    "    a.append(3)\n",
    "    a o/p : [1,2,4,3]\n",
    "#Insert is a function of list which can add a value at the given index.\n",
    "    eg: a=[1,2,4]\n",
    "    a.insert(2,3)     #first index,then value to insert\n",
    "    a o/p : [1,2,3,4]"
   ]
  },
  {
   "cell_type": "raw",
   "id": "3cae4c1e",
   "metadata": {},
   "source": [
    "11. What are the two methods for removing items from a list?\n",
    "Answer : \n",
    "#by using pop() and remove() function of the list "
   ]
  },
  {
   "cell_type": "raw",
   "id": "abe67fe1",
   "metadata": {},
   "source": [
    "12. Describe how list values and string values are identical.\n",
    "Answer : \n",
    "List and string values are identical as both are sequence and can be accessed with indexes,even though string does not have that much flexiblity compared to list as string is immutable data type."
   ]
  },
  {
   "cell_type": "raw",
   "id": "ef1b51c0",
   "metadata": {},
   "source": [
    "13. What's the difference between tuples and lists?\n",
    "Answer : \n",
    "#tuple is immutable,whereas List is mutable.\n",
    "#tuple is represented or values in tuple are stored in circular bracket(),whereas list is represented or values in list are stored in square brackets []."
   ]
  },
  {
   "cell_type": "raw",
   "id": "1ac20d9c",
   "metadata": {},
   "source": [
    "14. How do you type a tuple value that only contains the integer 42?\n",
    "Answer : \n",
    "a=42,"
   ]
  },
  {
   "cell_type": "raw",
   "id": "4659f755",
   "metadata": {},
   "source": [
    "15. How do you get a list value's tuple form? How do you get a tuple value's list form?\n",
    "Answer given below:-"
   ]
  },
  {
   "cell_type": "code",
   "execution_count": 38,
   "id": "4e344c40",
   "metadata": {},
   "outputs": [
    {
     "data": {
      "text/plain": [
       "tuple"
      ]
     },
     "execution_count": 38,
     "metadata": {},
     "output_type": "execute_result"
    }
   ],
   "source": [
    "a=[1,2,3,4]\n",
    "#converting list to tuple\n",
    "b=tuple(a)\n",
    "type(b)"
   ]
  },
  {
   "cell_type": "code",
   "execution_count": 39,
   "id": "3620b8e5",
   "metadata": {},
   "outputs": [
    {
     "data": {
      "text/plain": [
       "list"
      ]
     },
     "execution_count": 39,
     "metadata": {},
     "output_type": "execute_result"
    }
   ],
   "source": [
    "a=(1,2,3,4)\n",
    "#converting tuple to list\n",
    "b=list(a)\n",
    "type(b)"
   ]
  },
  {
   "cell_type": "raw",
   "id": "415b4e62",
   "metadata": {},
   "source": [
    "16. Variables that \"contain\" list values are not necessarily lists themselves. Instead, what do they contain?\n",
    "Answer :\n",
    "\n",
    "They contain references to list values"
   ]
  },
  {
   "cell_type": "raw",
   "id": "5ba5ab7c",
   "metadata": {},
   "source": [
    "17. How do you distinguish between copy.copy() and copy.deepcopy()?\n",
    "Answer : \n",
    "\n",
    "The copy.copy() function will do a shallow copy of a list whereas, the copy.deepcopy() function will do a deep copy of a list. only copy.deepcopy() will duplicate any lists inside the list."
   ]
  },
  {
   "cell_type": "code",
   "execution_count": null,
   "id": "191c5a52",
   "metadata": {},
   "outputs": [],
   "source": []
  }
 ],
 "metadata": {
  "kernelspec": {
   "display_name": "Python 3 (ipykernel)",
   "language": "python",
   "name": "python3"
  },
  "language_info": {
   "codemirror_mode": {
    "name": "ipython",
    "version": 3
   },
   "file_extension": ".py",
   "mimetype": "text/x-python",
   "name": "python",
   "nbconvert_exporter": "python",
   "pygments_lexer": "ipython3",
   "version": "3.9.7"
  }
 },
 "nbformat": 4,
 "nbformat_minor": 5
}
