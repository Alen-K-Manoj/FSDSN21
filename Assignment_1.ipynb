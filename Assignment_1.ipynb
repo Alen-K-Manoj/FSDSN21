{
 "cells": [
  {
   "cell_type": "raw",
   "id": "2b24fc0b",
   "metadata": {},
   "source": [
    "1. In the below elements which of them are values or an expression? eg:- values can be integer or string and expressions will be mathematical operators.\n",
    "\n",
    "* \n",
    "'hello'\n",
    "-87.8\n",
    "- \n",
    "/ \n",
    "+\n",
    "6 \n",
    "--------------------------------------------\n",
    "Answer :\n",
    "\n",
    "Values:\n",
    "\n",
    "'hello'\n",
    "-87.8\n",
    "6\n",
    "\n",
    "expressions:\n",
    "*\n",
    "- \n",
    "/ \n",
    "+\n",
    "\n",
    "------------------------------------------------"
   ]
  },
  {
   "cell_type": "raw",
   "id": "97c02249",
   "metadata": {},
   "source": [
    "2. What is the difference between string and variable?\n",
    "Answer :\n",
    "\n",
    "# A string is a constant,whereas variable is a letter or a word which can store or contain data or value.\n",
    "\n",
    "#A variable stores a data or an information,whereas a string itself is an information or a data. \n",
    "\n",
    "#eg : a=\"Sudh\"\n",
    "a <- is a variable\n",
    "\"sudh\" <- is a string "
   ]
  },
  {
   "cell_type": "raw",
   "id": "4aa1e3be",
   "metadata": {},
   "source": [
    "3. Describe three different data types.\n",
    "Answer :\n",
    "\n",
    "# Integer - Integer is a data type in python which repersents numbers(without               decimal points).\n",
    " \n",
    "            eg : a = 5\n",
    "            dtype(a) is Integer\n",
    "# String  - String is a data type in python which represents alpha-numaric                 values which is also immutable type.String values need to be stored             in single('') or double qoutes(\"\").\n",
    "          \n",
    "            eg : a=\"sudh\"\n",
    "            dtype(a) is String\n",
    "          \n",
    "# Float -Float is a data type in python which repersents numbers with                    decimal points. \n",
    "         \n",
    "         eg : a=4.87\n",
    "         dtype(a) is float\n",
    "\n",
    "\n",
    "         "
   ]
  },
  {
   "cell_type": "raw",
   "id": "0517f4db",
   "metadata": {},
   "source": [
    "4. What is an expression made up of? What do all expressions do?\n",
    "Answer :\n",
    "\n",
    "# An expression is a combination of operators and operands that is interpreted to produce some other value. In any programming language, an expression is evaluated as per the precedence of its operators.\n",
    "\n",
    "# An expression is a construct made up of variables, operators, and method invocations, which are constructed according to the syntax of the language, that evaluates to a single value.\n",
    "\n",
    "eg : X=A+BY\n",
    "**an expression gives a logic and meaning to a programming language. "
   ]
  },
  {
   "cell_type": "raw",
   "id": "0572dd3e",
   "metadata": {},
   "source": [
    "5. This assignment statements, like spam = 10. What is the difference between an expression and a statement?\n",
    "Answer : \n",
    "\n",
    "#An expression is a combination of operators and operands that is interpreted to produce some other value. In any programming language, an expression is evaluated as per the precedence of its operators.\n",
    "\n",
    "eg : X=A+BY\n",
    "**an expression gives a logic and meaning to a programming language. \n",
    "\n",
    "#The statement is just like a command that a python interpreter executes like print or excutes any logical line."
   ]
  },
  {
   "cell_type": "raw",
   "id": "a363af68",
   "metadata": {},
   "source": [
    "6. After running the following code, what does the variable bacon contain?\n",
    "bacon = 22\n",
    "bacon + 1\n",
    "\n",
    "Answer : \n",
    "bacon will contain 22 ,as +1 increment was not stored in it"
   ]
  },
  {
   "cell_type": "raw",
   "id": "e054307b",
   "metadata": {},
   "source": [
    "7. What should the values of the following two terms be?\n",
    "'spam' + 'spamspam'\n",
    "'spam' * 3\n",
    "Answer : \n",
    "\n",
    "'spamspamspam'"
   ]
  },
  {
   "cell_type": "raw",
   "id": "bf877e9e",
   "metadata": {},
   "source": [
    "8. Why is eggs a valid variable name while 100 is invalid?\n",
    "Answer : \n",
    "\n",
    "We cannot use a number like 100 as a variable as it is a Literal.\n",
    "if we try to do 100=\"sudh\",\n",
    "It will give a error :\n",
    "\n",
    "SyntaxError: cannot assign to literal\n",
    "\n",
    "Whereas eggs is a valid variable naming and is not a keyword in python yet."
   ]
  },
  {
   "cell_type": "raw",
   "id": "efbc7490",
   "metadata": {},
   "source": [
    "9. What three functions can be used to get the integer, floating-point number, or string version of a value?\n",
    "\n",
    "Answer :\n",
    "#The int() , float() , and str( ) functions can be used to get the integer, floating-point number, or string version of a value"
   ]
  },
  {
   "cell_type": "raw",
   "id": "29294679",
   "metadata": {},
   "source": [
    "10. Why does this expression cause an error? How can you fix it?\n",
    "'I have eaten ' + 99 + ' burritos.'\n",
    "Answer : \n",
    "#Either by adding str() function.\n",
    "eg : \n",
    "    'I have eaten ' + str(99) + ' burritos.'\n",
    "    \n",
    "or by adding single('') or double qoutes(\"\")\n",
    "\n",
    "'I have eaten ' + '99' + ' burritos.'"
   ]
  }
 ],
 "metadata": {
  "kernelspec": {
   "display_name": "Python 3 (ipykernel)",
   "language": "python",
   "name": "python3"
  },
  "language_info": {
   "codemirror_mode": {
    "name": "ipython",
    "version": 3
   },
   "file_extension": ".py",
   "mimetype": "text/x-python",
   "name": "python",
   "nbconvert_exporter": "python",
   "pygments_lexer": "ipython3",
   "version": "3.9.7"
  }
 },
 "nbformat": 4,
 "nbformat_minor": 5
}
